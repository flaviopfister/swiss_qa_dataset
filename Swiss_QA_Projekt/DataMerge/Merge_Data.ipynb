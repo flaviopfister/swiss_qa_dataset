{
 "cells": [
  {
   "cell_type": "code",
   "execution_count": 5,
   "metadata": {},
   "outputs": [],
   "source": [
    "#Imports\n",
    "import os\n",
    "import pandas as pd\n",
    "from glob import glob\n",
    "import matplotlib.pyplot as plt"
   ]
  },
  {
   "cell_type": "code",
   "execution_count": 2,
   "metadata": {},
   "outputs": [
    {
     "name": "stdout",
     "output_type": "stream",
     "text": [
      "CSV-Dateien erfolgreich zusammengeführt.\n"
     ]
    }
   ],
   "source": [
    "#Merging all csv files in a folder into one csv file\n",
    "\n",
    "csv_files = glob(os.path.join('Answers_011223', \"*.csv\"))\n",
    "\n",
    "# Setzen Sie den Pfad zum Ordner mit CSV-Dateien\n",
    "folder_path = 'Answers_011223'\n",
    "\n",
    "# open the first file and append the others\n",
    "with open(csv_files[0], 'r') as f:\n",
    "    data = f.read()\n",
    "with open('merged.csv', 'w') as f:\n",
    "    f.write(data)\n",
    "for csv in csv_files[1:]:\n",
    "    with open(csv, 'r') as f:\n",
    "        data = f.read()\n",
    "    with open('merged.csv', 'a') as f:\n",
    "        f.write(data)\n",
    "print(\"CSV-Dateien erfolgreich zusammengeführt.\")"
   ]
  },
  {
   "cell_type": "code",
   "execution_count": 3,
   "metadata": {},
   "outputs": [
    {
     "data": {
      "text/html": [
       "<div>\n",
       "<style scoped>\n",
       "    .dataframe tbody tr th:only-of-type {\n",
       "        vertical-align: middle;\n",
       "    }\n",
       "\n",
       "    .dataframe tbody tr th {\n",
       "        vertical-align: top;\n",
       "    }\n",
       "\n",
       "    .dataframe thead th {\n",
       "        text-align: right;\n",
       "    }\n",
       "</style>\n",
       "<table border=\"1\" class=\"dataframe\">\n",
       "  <thead>\n",
       "    <tr style=\"text-align: right;\">\n",
       "      <th></th>\n",
       "      <th>InternalID</th>\n",
       "      <th>Frage_CHde</th>\n",
       "      <th>Dialekt</th>\n",
       "    </tr>\n",
       "  </thead>\n",
       "  <tbody>\n",
       "    <tr>\n",
       "      <th>0</th>\n",
       "      <td>302</td>\n",
       "      <td>Het Che Guevara Chind gha?</td>\n",
       "      <td>Bern</td>\n",
       "    </tr>\n",
       "    <tr>\n",
       "      <th>1</th>\n",
       "      <td>222</td>\n",
       "      <td>Isch rossrennä ä sport?</td>\n",
       "      <td>Bern</td>\n",
       "    </tr>\n",
       "    <tr>\n",
       "      <th>2</th>\n",
       "      <td>176</td>\n",
       "      <td>Wenn isch dr Olof Palme erschossä wordä</td>\n",
       "      <td>Bern</td>\n",
       "    </tr>\n",
       "    <tr>\n",
       "      <th>3</th>\n",
       "      <td>490</td>\n",
       "      <td>Weli Unternähme arbeite ir Luft- und Ruumfahrt...</td>\n",
       "      <td>Bern</td>\n",
       "    </tr>\n",
       "    <tr>\n",
       "      <th>4</th>\n",
       "      <td>394</td>\n",
       "      <td>Wie heisst dr höchst Bärg in Australie?</td>\n",
       "      <td>Bern</td>\n",
       "    </tr>\n",
       "    <tr>\n",
       "      <th>...</th>\n",
       "      <td>...</td>\n",
       "      <td>...</td>\n",
       "      <td>...</td>\n",
       "    </tr>\n",
       "    <tr>\n",
       "      <th>770</th>\n",
       "      <td>531</td>\n",
       "      <td>bi welem film het d kurosawa regie gführt?</td>\n",
       "      <td>Ostschweiz</td>\n",
       "    </tr>\n",
       "    <tr>\n",
       "      <th>771</th>\n",
       "      <td>398</td>\n",
       "      <td>i weller stadt hend die vereinte natione ihre ...</td>\n",
       "      <td>Ostschweiz</td>\n",
       "    </tr>\n",
       "    <tr>\n",
       "      <th>772</th>\n",
       "      <td>243</td>\n",
       "      <td>durch welli städt flüsst de weser</td>\n",
       "      <td>Ostschweiz</td>\n",
       "    </tr>\n",
       "    <tr>\n",
       "      <th>773</th>\n",
       "      <td>375</td>\n",
       "      <td>wer isch de bürgermeister vu tel aviv</td>\n",
       "      <td>Ostschweiz</td>\n",
       "    </tr>\n",
       "    <tr>\n",
       "      <th>774</th>\n",
       "      <td>187</td>\n",
       "      <td>was isch s gröste land vu de welt</td>\n",
       "      <td>Ostschweiz</td>\n",
       "    </tr>\n",
       "  </tbody>\n",
       "</table>\n",
       "<p>775 rows × 3 columns</p>\n",
       "</div>"
      ],
      "text/plain": [
       "     InternalID                                         Frage_CHde     Dialekt\n",
       "0           302                         Het Che Guevara Chind gha?        Bern\n",
       "1           222                            Isch rossrennä ä sport?        Bern\n",
       "2           176            Wenn isch dr Olof Palme erschossä wordä        Bern\n",
       "3           490  Weli Unternähme arbeite ir Luft- und Ruumfahrt...        Bern\n",
       "4           394            Wie heisst dr höchst Bärg in Australie?        Bern\n",
       "..          ...                                                ...         ...\n",
       "770         531         bi welem film het d kurosawa regie gführt?  Ostschweiz\n",
       "771         398  i weller stadt hend die vereinte natione ihre ...  Ostschweiz\n",
       "772         243                  durch welli städt flüsst de weser  Ostschweiz\n",
       "773         375              wer isch de bürgermeister vu tel aviv  Ostschweiz\n",
       "774         187                  was isch s gröste land vu de welt  Ostschweiz\n",
       "\n",
       "[775 rows x 3 columns]"
      ]
     },
     "execution_count": 3,
     "metadata": {},
     "output_type": "execute_result"
    }
   ],
   "source": [
    "#load the merged file into a dataframe with manual column names\n",
    "df = pd.read_csv('merged_CH_de_Fragen_2.csv', sep=',', header=None, names=['InternalID', 'Frage_CHde','Dialekt'])\n",
    "df\n"
   ]
  },
  {
   "cell_type": "code",
   "execution_count": 6,
   "metadata": {},
   "outputs": [
    {
     "data": {
      "text/plain": [
       "Text(0, 0.5, 'Anzahl')"
      ]
     },
     "execution_count": 6,
     "metadata": {},
     "output_type": "execute_result"
    },
    {
     "data": {
      "image/png": "[encoded data removed]",
      "text/plain": [
       "<Figure size 700x500 with 1 Axes>"
      ]
     },
     "metadata": {},
     "output_type": "display_data"
    }
   ],
   "source": [
    "#plot histogram of the Dialket column\n",
    "df['Dialekt'].value_counts().plot(kind='bar', title='Verteilung der Dialekte', figsize=(7,5))\n",
    "# axis labels\n",
    "plt.xlabel('Dialekte')\n",
    "plt.ylabel('Anzahl')"
   ]
  },
  {
   "cell_type": "markdown",
   "metadata": {},
   "source": []
  },
  {
   "cell_type": "code",
   "execution_count": 9,
   "metadata": {},
   "outputs": [
    {
     "name": "stdout",
     "output_type": "stream",
     "text": [
      "Fehlende IDs:  []\n",
      "Anzahl fehlender IDs:  0\n"
     ]
    }
   ],
   "source": [
    "#a list of all missing InternalIDs inbetween 1 and 557\n",
    "\n",
    "missing = [x for x in range(0,557) if x not in df['InternalID'].tolist()]\n",
    "print(\"Fehlende IDs: \", missing)\n",
    "print(\"Anzahl fehlender IDs: \", len(missing))"
   ]
  },
  {
   "cell_type": "code",
   "execution_count": 10,
   "metadata": {},
   "outputs": [
    {
     "data": {
      "text/html": [
       "<div>\n",
       "<style scoped>\n",
       "    .dataframe tbody tr th:only-of-type {\n",
       "        vertical-align: middle;\n",
       "    }\n",
       "\n",
       "    .dataframe tbody tr th {\n",
       "        vertical-align: top;\n",
       "    }\n",
       "\n",
       "    .dataframe thead th {\n",
       "        text-align: right;\n",
       "    }\n",
       "</style>\n",
       "<table border=\"1\" class=\"dataframe\">\n",
       "  <thead>\n",
       "    <tr style=\"text-align: right;\">\n",
       "      <th></th>\n",
       "      <th>InternalID</th>\n",
       "      <th>Frage_CHde</th>\n",
       "      <th>Dialekt</th>\n",
       "    </tr>\n",
       "  </thead>\n",
       "  <tbody>\n",
       "    <tr>\n",
       "      <th>392</th>\n",
       "      <td>0</td>\n",
       "      <td>List alli Bretspiil vo GMT uf.</td>\n",
       "      <td>Zentralschweiz</td>\n",
       "    </tr>\n",
       "    <tr>\n",
       "      <th>382</th>\n",
       "      <td>1</td>\n",
       "      <td>Wer het Skype entwickled?</td>\n",
       "      <td>Zentralschweiz</td>\n",
       "    </tr>\n",
       "    <tr>\n",
       "      <th>383</th>\n",
       "      <td>2</td>\n",
       "      <td>Welli Persine sind in Heraklion gboore?</td>\n",
       "      <td>Zentralschweiz</td>\n",
       "    </tr>\n",
       "    <tr>\n",
       "      <th>591</th>\n",
       "      <td>3</td>\n",
       "      <td>Welli Persone sind in Herakolin gebore worde?</td>\n",
       "      <td>Zentralschweiz</td>\n",
       "    </tr>\n",
       "    <tr>\n",
       "      <th>647</th>\n",
       "      <td>4</td>\n",
       "      <td>wer isch bürgermeister vu new york city?</td>\n",
       "      <td>Graubünden</td>\n",
       "    </tr>\n",
       "    <tr>\n",
       "      <th>...</th>\n",
       "      <td>...</td>\n",
       "      <td>...</td>\n",
       "      <td>...</td>\n",
       "    </tr>\n",
       "    <tr>\n",
       "      <th>29</th>\n",
       "      <td>554</td>\n",
       "      <td>Welle Buech het am meiste Siitene?</td>\n",
       "      <td>Zürich</td>\n",
       "    </tr>\n",
       "    <tr>\n",
       "      <th>551</th>\n",
       "      <td>555</td>\n",
       "      <td>Welles isch die grössti Stadt in Amerika?</td>\n",
       "      <td>Zentralschweiz</td>\n",
       "    </tr>\n",
       "    <tr>\n",
       "      <th>297</th>\n",
       "      <td>556</td>\n",
       "      <td>Tuan alli Internetsiita vu Unternehma uflista ...</td>\n",
       "      <td>Graubünden</td>\n",
       "    </tr>\n",
       "    <tr>\n",
       "      <th>533</th>\n",
       "      <td>557</td>\n",
       "      <td>wia heissen dia drei Schiff vum Kolumbus?</td>\n",
       "      <td>Graubünden</td>\n",
       "    </tr>\n",
       "    <tr>\n",
       "      <th>331</th>\n",
       "      <td>557</td>\n",
       "      <td>Wia hend dia drei Schiff vum Kolumbus gheissa?</td>\n",
       "      <td>Graubünden</td>\n",
       "    </tr>\n",
       "  </tbody>\n",
       "</table>\n",
       "<p>775 rows × 3 columns</p>\n",
       "</div>"
      ],
      "text/plain": [
       "     InternalID                                         Frage_CHde  \\\n",
       "392           0                     List alli Bretspiil vo GMT uf.   \n",
       "382           1                          Wer het Skype entwickled?   \n",
       "383           2            Welli Persine sind in Heraklion gboore?   \n",
       "591           3      Welli Persone sind in Herakolin gebore worde?   \n",
       "647           4           wer isch bürgermeister vu new york city?   \n",
       "..          ...                                                ...   \n",
       "29          554                 Welle Buech het am meiste Siitene?   \n",
       "551         555          Welles isch die grössti Stadt in Amerika?   \n",
       "297         556  Tuan alli Internetsiita vu Unternehma uflista ...   \n",
       "533         557          wia heissen dia drei Schiff vum Kolumbus?   \n",
       "331         557     Wia hend dia drei Schiff vum Kolumbus gheissa?   \n",
       "\n",
       "            Dialekt  \n",
       "392  Zentralschweiz  \n",
       "382  Zentralschweiz  \n",
       "383  Zentralschweiz  \n",
       "591  Zentralschweiz  \n",
       "647      Graubünden  \n",
       "..              ...  \n",
       "29           Zürich  \n",
       "551  Zentralschweiz  \n",
       "297      Graubünden  \n",
       "533      Graubünden  \n",
       "331      Graubünden  \n",
       "\n",
       "[775 rows x 3 columns]"
      ]
     },
     "execution_count": 10,
     "metadata": {},
     "output_type": "execute_result"
    }
   ],
   "source": [
    "#sort the dataframe by InternalID\n",
    "df = df.sort_values(by=['InternalID'])\n",
    "df"
   ]
  },
  {
   "cell_type": "code",
   "execution_count": 11,
   "metadata": {},
   "outputs": [],
   "source": [
    "#print random 10% of the dataframe\n",
    "check = df['Frage_CHde'].sample(frac=0.1)"
   ]
  },
  {
   "cell_type": "code",
   "execution_count": 12,
   "metadata": {},
   "outputs": [],
   "source": [
    "#write a new csv frile with check\n",
    "check.to_csv('check.csv', sep=',', header=False, index=False)"
   ]
  },
  {
   "cell_type": "code",
   "execution_count": 23,
   "metadata": {},
   "outputs": [
    {
     "data": {
      "text/html": [
       "<div>\n",
       "<style scoped>\n",
       "    .dataframe tbody tr th:only-of-type {\n",
       "        vertical-align: middle;\n",
       "    }\n",
       "\n",
       "    .dataframe tbody tr th {\n",
       "        vertical-align: top;\n",
       "    }\n",
       "\n",
       "    .dataframe thead th {\n",
       "        text-align: right;\n",
       "    }\n",
       "</style>\n",
       "<table border=\"1\" class=\"dataframe\">\n",
       "  <thead>\n",
       "    <tr style=\"text-align: right;\">\n",
       "      <th></th>\n",
       "      <th>Frage_CHde</th>\n",
       "      <th>Check</th>\n",
       "    </tr>\n",
       "  </thead>\n",
       "  <tbody>\n",
       "    <tr>\n",
       "      <th>0</th>\n",
       "      <td>List alli dänische Film uf.</td>\n",
       "      <td>ok</td>\n",
       "    </tr>\n",
       "    <tr>\n",
       "      <th>1</th>\n",
       "      <td>In welra Zitzona ligt Salt Lake City?</td>\n",
       "      <td>ok</td>\n",
       "    </tr>\n",
       "    <tr>\n",
       "      <th>2</th>\n",
       "      <td>Wenn isch de John Adams gebora?</td>\n",
       "      <td>ok</td>\n",
       "    </tr>\n",
       "    <tr>\n",
       "      <th>3</th>\n",
       "      <td>Für welli Musicals hät de Leonard Bernsetein d...</td>\n",
       "      <td>ok</td>\n",
       "    </tr>\n",
       "    <tr>\n",
       "      <th>4</th>\n",
       "      <td>Mit wem isch d Tochter fum Robert Kennedy verh...</td>\n",
       "      <td>ok</td>\n",
       "    </tr>\n",
       "    <tr>\n",
       "      <th>...</th>\n",
       "      <td>...</td>\n",
       "      <td>...</td>\n",
       "    </tr>\n",
       "    <tr>\n",
       "      <th>73</th>\n",
       "      <td>Wo isch Syngman Rhee bestattet?</td>\n",
       "      <td>ok</td>\n",
       "    </tr>\n",
       "    <tr>\n",
       "      <th>74</th>\n",
       "      <td>zell di englishe schaupieler uf wo in Lovesick...</td>\n",
       "      <td>ok</td>\n",
       "    </tr>\n",
       "    <tr>\n",
       "      <th>75</th>\n",
       "      <td>Wie gross isch d Claudia Schiffer?</td>\n",
       "      <td>ok</td>\n",
       "    </tr>\n",
       "    <tr>\n",
       "      <th>76</th>\n",
       "      <td>Welli Sprocha werdend in Pakistan gredet?</td>\n",
       "      <td>ok</td>\n",
       "    </tr>\n",
       "    <tr>\n",
       "      <th>77</th>\n",
       "      <td>Welli Regierigsfrom het Russland?</td>\n",
       "      <td>ok</td>\n",
       "    </tr>\n",
       "  </tbody>\n",
       "</table>\n",
       "<p>78 rows × 2 columns</p>\n",
       "</div>"
      ],
      "text/plain": [
       "                                           Frage_CHde Check\n",
       "0                         List alli dänische Film uf.    ok\n",
       "1               In welra Zitzona ligt Salt Lake City?    ok\n",
       "2                     Wenn isch de John Adams gebora?    ok\n",
       "3   Für welli Musicals hät de Leonard Bernsetein d...    ok\n",
       "4   Mit wem isch d Tochter fum Robert Kennedy verh...    ok\n",
       "..                                                ...   ...\n",
       "73                    Wo isch Syngman Rhee bestattet?    ok\n",
       "74  zell di englishe schaupieler uf wo in Lovesick...    ok\n",
       "75                 Wie gross isch d Claudia Schiffer?    ok\n",
       "76          Welli Sprocha werdend in Pakistan gredet?    ok\n",
       "77                  Welli Regierigsfrom het Russland?    ok\n",
       "\n",
       "[78 rows x 2 columns]"
      ]
     },
     "execution_count": 23,
     "metadata": {},
     "output_type": "execute_result"
    }
   ],
   "source": [
    "#load the new csv file into a dataframe\n",
    "df_check = pd.read_csv('check.csv', sep=',', header=None, names=['Frage_CHde', 'Check'])\n",
    "df_check"
   ]
  },
  {
   "cell_type": "code",
   "execution_count": 24,
   "metadata": {},
   "outputs": [
    {
     "data": {
      "text/plain": [
       "<Axes: title={'center': 'Verteilung der Resultate der manuellen Prüfung'}, xlabel='Check'>"
      ]
     },
     "execution_count": 24,
     "metadata": {},
     "output_type": "execute_result"
    },
    {
     "data": {
      "image/png": "[encoded data removed]",
      "text/plain": [
       "<Figure size 700x500 with 1 Axes>"
      ]
     },
     "metadata": {},
     "output_type": "display_data"
    }
   ],
   "source": [
    "#plot histogram of the Check column\n",
    "df_check['Check'].value_counts().plot(kind='bar', title='Verteilung der Resultate der manuellen Prüfung', figsize=(7,5))"
   ]
  },
  {
   "cell_type": "code",
   "execution_count": null,
   "metadata": {},
   "outputs": [],
   "source": []
  }
 ],
 "metadata": {
  "kernelspec": {
   "display_name": "base",
   "language": "python",
   "name": "python3"
  },
  "language_info": {
   "codemirror_mode": {
    "name": "ipython",
    "version": 3
   },
   "file_extension": ".py",
   "mimetype": "text/x-python",
   "name": "python",
   "nbconvert_exporter": "python",
   "pygments_lexer": "ipython3",
   "version": "3.11.5"
  }
 },
 "nbformat": 4,
 "nbformat_minor": 2
}
